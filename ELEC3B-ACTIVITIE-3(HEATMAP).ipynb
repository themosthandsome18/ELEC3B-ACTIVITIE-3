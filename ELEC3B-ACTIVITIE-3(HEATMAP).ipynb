{
 "cells": [
  {
   "cell_type": "code",
   "execution_count": 29,
   "id": "9f8d56b7-de8c-4296-bcf7-c50ff1caa81a",
   "metadata": {},
   "outputs": [],
   "source": [
    "import numpy as np\n",
    "import pandas as pd\n",
    "import warnings\n",
    "warnings.filterwarnings('ignore')\n",
    "from scipy.stats import f_oneway\n",
    "import matplotlib.pyplot as plt\n",
    "import seaborn as sns"
   ]
  },
  {
   "cell_type": "code",
   "execution_count": 30,
   "id": "f06468ff-854a-4576-946f-d5b34f719bae",
   "metadata": {},
   "outputs": [],
   "source": [
    "accident = pd.read_csv('datasets\\\\uk_road_accident.csv')"
   ]
  },
  {
   "cell_type": "code",
   "execution_count": 31,
   "id": "fc4a9b37-7233-4675-acfc-49244d98498c",
   "metadata": {},
   "outputs": [
    {
     "data": {
      "text/plain": [
       "Index                       0\n",
       "Accident_Severity           0\n",
       "Accident Date               0\n",
       "Latitude                    0\n",
       "Light_Conditions            0\n",
       "District Area               0\n",
       "Longitude                   0\n",
       "Number_of_Casualties        0\n",
       "Number_of_Vehicles          0\n",
       "Road_Surface_Conditions     0\n",
       "Road_Type                   0\n",
       "Urban_or_Rural_Area        15\n",
       "Weather_Conditions          0\n",
       "Vehicle_Type                0\n",
       "Year                        0\n",
       "Month                       0\n",
       "Day                         0\n",
       "DayOfWeek                   0\n",
       "dtype: int64"
      ]
     },
     "execution_count": 31,
     "metadata": {},
     "output_type": "execute_result"
    }
   ],
   "source": [
    "# Step 1: Convert to string only if not null\n",
    "accident['Accident Date'] = accident['Accident Date'].astype(str)\n",
    "# Step 2: Replace '/' with '-' safely\n",
    "accident['Accident Date'] = accident['Accident Date'].apply(lambda x: x.replace('/', '-') if pd.notnull(x) else x)\n",
    "# Step 3: Strip whitespace\n",
    "accident['Accident Date'] = accident['Accident Date'].apply(lambda x: x.strip() if pd.notnull(x) else x)\n",
    "# Step 4: Convert to datetime\n",
    "accident['Accident Date'] = pd.to_datetime(accident['Accident Date'], dayfirst=True, errors='coerce')\n",
    "\n",
    "\n",
    "accident['Latitude'] = accident['Latitude'].fillna(accident['Latitude'].mode()[0])\n",
    "accident['Longitude'] = accident['Longitude'].fillna(accident['Longitude'].mode()[0])\n",
    "accident['Road_Surface_Conditions'] = accident['Road_Surface_Conditions'].fillna('unaccounted')\n",
    "accident['Road_Type'] = accident['Road_Type'].fillna('unaccounted')\n",
    "accident['Weather_Conditions'] = accident['Weather_Conditions'].fillna('unaccounted')\n",
    "\n",
    "accident.dtypes\n",
    "accident.isnull().sum()\n",
    "\n",
    "accident['Year'] = accident['Accident Date'].dt.year\n",
    "accident['Month'] =  accident['Accident Date'].dt.month\n",
    "accident['Day'] =  accident['Accident Date'].dt.day\n",
    "accident['DayOfWeek'] =  accident['Accident Date'].dt.dayofweek\n",
    "accident.isnull().sum()"
   ]
  },
  {
   "cell_type": "markdown",
   "id": "bc36c998-64fe-4a94-b024-4e0cb8d6dd51",
   "metadata": {},
   "source": [
    "<h2>Clearing any Inconsistencies with the Data Set</h2>"
   ]
  },
  {
   "cell_type": "code",
   "execution_count": 32,
   "id": "22661151-bdbb-429a-99d0-6fb05c7baa8b",
   "metadata": {},
   "outputs": [],
   "source": [
    "accident['Accident Date'] = accident['Accident Date'].astype('str')\n",
    "accident['Accident Date'] = accident['Accident Date'].str.strip()\n",
    "accident['Accident Date'] = accident['Accident Date'].str.replace('/', '-')"
   ]
  },
  {
   "cell_type": "code",
   "execution_count": 33,
   "id": "e7d6d812-783d-4fba-a5c7-a225657e26ad",
   "metadata": {},
   "outputs": [],
   "source": [
    "accident['Accident Date'] = pd.to_datetime(accident['Accident Date'], dayfirst = True, errors = 'coerce')"
   ]
  },
  {
   "cell_type": "markdown",
   "id": "ae740307-dabb-4faf-89d5-b5df1f449f1f",
   "metadata": {},
   "source": [
    "<h2>Adjusting Data Types</h2>"
   ]
  },
  {
   "cell_type": "code",
   "execution_count": 34,
   "id": "33e7996d-ebeb-421d-aeed-727ae3f82cd2",
   "metadata": {},
   "outputs": [
    {
     "data": {
      "text/plain": [
       "Index                              object\n",
       "Accident_Severity                  object\n",
       "Accident Date              datetime64[ns]\n",
       "Latitude                          float64\n",
       "Light_Conditions                   object\n",
       "District Area                      object\n",
       "Longitude                         float64\n",
       "Number_of_Casualties                int64\n",
       "Number_of_Vehicles                  int64\n",
       "Road_Surface_Conditions            object\n",
       "Road_Type                          object\n",
       "Urban_or_Rural_Area                object\n",
       "Weather_Conditions                 object\n",
       "Vehicle_Type                       object\n",
       "Year                                int32\n",
       "Month                               int32\n",
       "Day                                 int32\n",
       "DayOfWeek                           int32\n",
       "dtype: object"
      ]
     },
     "execution_count": 34,
     "metadata": {},
     "output_type": "execute_result"
    }
   ],
   "source": [
    "accident.dtypes"
   ]
  },
  {
   "cell_type": "markdown",
   "id": "c2877384-8c8e-4674-b9f7-ec11d9fcbf35",
   "metadata": {},
   "source": [
    "<h2>Extracting Date Informatiom Using Pandas Date Time</h2>"
   ]
  },
  {
   "cell_type": "code",
   "execution_count": 35,
   "id": "29ffb0a0-022e-4d4c-ad69-8dc2de30aa1a",
   "metadata": {},
   "outputs": [],
   "source": [
    "accident['Year'] = accident['Accident Date'].dt.year\n",
    "accident['Month'] =  accident['Accident Date'].dt.month\n",
    "accident['Day'] = accident['Accident Date'].dt.day\n",
    "accident['DayofWeek'] = accident['Accident Date'].dt.dayofweek"
   ]
  },
  {
   "cell_type": "code",
   "execution_count": 36,
   "id": "5f0c6cbd-24dc-4688-84e9-b03066c0c0cc",
   "metadata": {},
   "outputs": [
    {
     "data": {
      "text/plain": [
       "Index                           0\n",
       "Accident_Severity               0\n",
       "Accident Date              395672\n",
       "Latitude                        0\n",
       "Light_Conditions                0\n",
       "District Area                   0\n",
       "Longitude                       0\n",
       "Number_of_Casualties            0\n",
       "Number_of_Vehicles              0\n",
       "Road_Surface_Conditions         0\n",
       "Road_Type                       0\n",
       "Urban_or_Rural_Area            15\n",
       "Weather_Conditions              0\n",
       "Vehicle_Type                    0\n",
       "Year                       395672\n",
       "Month                      395672\n",
       "Day                        395672\n",
       "DayOfWeek                       0\n",
       "DayofWeek                  395672\n",
       "dtype: int64"
      ]
     },
     "execution_count": 36,
     "metadata": {},
     "output_type": "execute_result"
    }
   ],
   "source": [
    "accident.isnull().sum()"
   ]
  },
  {
   "cell_type": "markdown",
   "id": "3670d144-ea4a-4c93-a043-1b683001e590",
   "metadata": {},
   "source": [
    "<h2>Advanced Groupby Functions</h2>\n",
    "<ul>\n",
    "    <li>UNSTUCK | unstack()</li>\n",
    "    <li>RESET_INDEX | reset_index()</li>\n",
    "</ul>"
   ]
  },
  {
   "cell_type": "code",
   "execution_count": 37,
   "id": "54c16220-f798-4624-933b-4faddef590e0",
   "metadata": {},
   "outputs": [
    {
     "data": {
      "text/plain": [
       "Accident_Severity  Year  \n",
       "Fatal              2019.0     1116\n",
       "                   2020.0      942\n",
       "                   2021.0      823\n",
       "                   2022.0      623\n",
       "Serious            2019.0     9823\n",
       "                   2020.0     9346\n",
       "                   2021.0     8858\n",
       "                   2022.0     7266\n",
       "Slight             2019.0    60928\n",
       "                   2020.0    59875\n",
       "                   2021.0    56491\n",
       "                   2022.0    48916\n",
       "dtype: int64"
      ]
     },
     "execution_count": 37,
     "metadata": {},
     "output_type": "execute_result"
    }
   ],
   "source": [
    "accident.dtypes\n",
    "\n",
    "severity = accident.groupby(['Accident_Severity', 'Year']).size()\n",
    "severity"
   ]
  },
  {
   "cell_type": "code",
   "execution_count": null,
   "id": "03302a2a-15c1-4d85-9eac-91e4b0b1925c",
   "metadata": {},
   "outputs": [],
   "source": [
    "severity2 = accident.groupby(['Accident_Severity', 'Year']).size()\n",
    "severity2.unstack()"
   ]
  },
  {
   "cell_type": "code",
   "execution_count": null,
   "id": "6509bae9-2900-48d6-879e-a8d443796f47",
   "metadata": {},
   "outputs": [],
   "source": [
    "severity3 = accident.groupby(['Accident_Severity', 'Year']).size()\n",
    "severity3.unstack(level=0)"
   ]
  },
  {
   "cell_type": "code",
   "execution_count": null,
   "id": "320088b7-d36f-4b8f-b50d-ff32217cb49a",
   "metadata": {},
   "outputs": [],
   "source": [
    "severity3 = accident.groupby(['Accident_Severity', 'Year']).size()\n",
    "severity3.reset_index()"
   ]
  },
  {
   "cell_type": "code",
   "execution_count": null,
   "id": "152beecc-f9b9-4868-be49-e7bc596621b5",
   "metadata": {},
   "outputs": [],
   "source": [
    "monthly_data = accident.groupby(['Year', 'Month']).size()\n",
    "monthly_data = monthly_data.unstack(level=0)\n",
    "monthly_data.plot(marker='>', figsize=(10,5), title='Monthly Road Accidents by Year (2022)')\n",
    "\n",
    "plt.xticks(range(1, 13), ['Jan', 'Feb', 'Mar', 'Apr', 'May', 'Jun', 'Jul', 'Aug', 'Sep', 'Oct', 'Nov', 'Dec'])\n",
    "plt.grid(alpha=0.5)\n",
    "plt.show"
   ]
  },
  {
   "cell_type": "code",
   "execution_count": null,
   "id": "fccae216-1eac-4dce-a122-830d6a9423cb",
   "metadata": {},
   "outputs": [],
   "source": [
    "accident[accident['District Area'] == 'City of Londo']"
   ]
  },
  {
   "cell_type": "markdown",
   "id": "a4bc9367-71da-4783-a9b8-17018e954f7d",
   "metadata": {},
   "source": [
    "<h2>PIE CHART IN MATPLOTLIB</h2>"
   ]
  },
  {
   "cell_type": "code",
   "execution_count": null,
   "id": "89cbabe5-bdc0-42ab-8e5f-d95060d20fdf",
   "metadata": {},
   "outputs": [],
   "source": [
    "severity = accident['Accident_Severity'].value_counts()"
   ]
  },
  {
   "cell_type": "code",
   "execution_count": null,
   "id": "5bd19880-4fc9-42fc-8c46-00b12c3ac682",
   "metadata": {},
   "outputs": [],
   "source": [
    "severity.index"
   ]
  },
  {
   "cell_type": "code",
   "execution_count": null,
   "id": "3f2fa893-5c79-40f9-b7a6-39bd477a4d16",
   "metadata": {},
   "outputs": [],
   "source": [
    "severity.values"
   ]
  },
  {
   "cell_type": "code",
   "execution_count": null,
   "id": "64ca2a57-fbad-4927-89d2-29865896343f",
   "metadata": {},
   "outputs": [],
   "source": [
    "plt.pie(severity, labels = severity.index, startangle = 90, autopct = '%1.1f%%', colors = ['Peru','Cornflowerblue','Darksalmon'])\n",
    "plt.show()"
   ]
  },
  {
   "cell_type": "markdown",
   "id": "5209d3b1-9bac-47aa-8245-315988e38a2e",
   "metadata": {},
   "source": [
    "<h1>Data Visualizations using Seaborn </h1>\n",
    "<hr>\n",
    "<br>\n",
    "\n",
    "<p>Seaborn is visualization library built on top of Matplotlib</p>\n",
    "<p>It was created not to replace Matplot but rather to create enhancement and options</p>"
   ]
  },
  {
   "cell_type": "code",
   "execution_count": 40,
   "id": "2839c37d-eb27-4a84-855b-2d44efa11cd9",
   "metadata": {},
   "outputs": [
    {
     "data": {
      "image/png": "[encoded data removed]",
      "text/plain": [
       "<Figure size 1000x600 with 1 Axes>"
      ]
     },
     "metadata": {},
     "output_type": "display_data"
    }
   ],
   "source": [
    "sns.barplot(data=accident, y='Number_of_Casualties', x = 'Month')\n",
    "# plt.xticks(range(0,11, ['Jan -- December'])\n",
    "plt.gcf().set_size_inches(10, 6)\n",
    "plt.show()"
   ]
  },
  {
   "cell_type": "code",
   "execution_count": 41,
   "id": "d6a1f702-8c65-4e62-8bc0-fbc0455a7709",
   "metadata": {},
   "outputs": [
    {
     "data": {
      "text/plain": [
       "<Axes: xlabel='Month', ylabel='Number_of_Casualties'>"
      ]
     },
     "execution_count": 41,
     "metadata": {},
     "output_type": "execute_result"
    },
    {
     "data": {
      "image/png": "[encoded data removed]",
      "text/plain": [
       "<Figure size 640x480 with 1 Axes>"
      ]
     },
     "metadata": {},
     "output_type": "display_data"
    }
   ],
   "source": [
    "sns.lineplot(data=accident, y='Number_of_Casualties', x = 'Month')"
   ]
  },
  {
   "cell_type": "markdown",
   "id": "f47c1103-cc74-4df2-978a-acfc22377a5b",
   "metadata": {},
   "source": [
    "<hr>\n",
    "<h1> Part 1: Using District Area to make a comparison to a general result </h1>\n",
    "<h3>Shepway Analysis</h3>\n",
    "<img src = 'https://cdn.britannica.com/54/148754-050-9930A07D/St-Clements-Church-Old-Romney-Shepway-Eng.jpg'\\>"
   ]
  },
  {
   "cell_type": "code",
   "execution_count": null,
   "id": "1100f25c-20e2-4ae2-83e9-9e5602e7b96c",
   "metadata": {},
   "outputs": [],
   "source": [
    "# df.dtypes\n",
    "Shepway_accident = accident[accident['District Area'] == 'Shepway']"
   ]
  },
  {
   "cell_type": "code",
   "execution_count": null,
   "id": "989840a1-ecc0-495c-9cc5-3b8baf0ae764",
   "metadata": {},
   "outputs": [],
   "source": [
    "monthly_londondata = Shepway_accident.groupby(['Year', 'Month', ]).size()\n",
    "\n",
    "monthly_londondata = monthly_londondata.unstack(level=0)\n",
    "\n",
    "monthly_londondata.plot(\n",
    "    marker='o', \n",
    "    figsize=(10, 5),\n",
    "    title='Monthly Road Accidents in Shepway by Year (2019-2022)'\n",
    ")\n",
    "plt.xticks(range(1, 13), ['Jan','Feb','Mar','Apr','May','Jun','Jul','Aug','Sep','Oct','Nov','Dec'])\n",
    "# plt.legend(title='Yearly Accident Comparison', bbox_to_anchor = (1.05,1), loc='upper left')\n",
    "plt.grid(alpha=0.3)\n",
    "plt.show()"
   ]
  },
  {
   "cell_type": "code",
   "execution_count": null,
   "id": "6637600e-d4de-46fa-bc6b-795607e84be8",
   "metadata": {},
   "outputs": [],
   "source": [
    "# Accidents per year\n",
    "accidents_per_year = Shepway_accident['Year'].value_counts().sort_index()\n",
    "accidents_per_month = Shepway_accident['Month'].value_counts().sort_index()\n",
    "accidents_per_day = Shepway_accident['DayOfWeek'].value_counts().sort_index()\n",
    "\n",
    "\n",
    "#PER YEAR \n",
    "accidents_per_year.plot(kind='bar')\n",
    "plt.title('Accidents per Year')\n",
    "plt.xlabel('Year')\n",
    "plt.ylabel('Number of Accidents')\n",
    "plt.show()\n",
    "\n",
    "month_names = {\n",
    "    1: 'January', 2: 'February', 3: 'March', 4: 'April',\n",
    "    5: 'May', 6: 'June', 7: 'July', 8: 'August',\n",
    "    9: 'September', 10: 'October', 11: 'November', 12: 'December'\n",
    "}\n",
    "\n",
    "# Replace numerical months with their names\n",
    "accidents_per_month.index = accidents_per_month.index.map(month_names)\n",
    "\n",
    "\n",
    "accidents_per_month.plot(kind='bar')\n",
    "plt.title('Accidents per Month')\n",
    "plt.xlabel('Month')\n",
    "plt.ylabel('Number of Accidents')\n",
    "plt.show()\n",
    "\n",
    "\n",
    "#accident per day\n",
    "day_names = {\n",
    "    0: 'Monday',\n",
    "    1: 'Tuesday',\n",
    "    2: 'Wednesday',\n",
    "    3: 'Thursday',\n",
    "    4: 'Friday',\n",
    "    5: 'Saturday',\n",
    "    6: 'Sunday'\n",
    "}\n",
    "\n",
    "accidents_per_day.index = accidents_per_day.index.map(day_names)\n",
    "accidents_per_day.plot(kind='bar')\n",
    "print(accidents_per_day)"
   ]
  },
  {
   "cell_type": "markdown",
   "id": "ca8763b4-cc0d-4f72-8309-59ca9c9d6c5b",
   "metadata": {},
   "source": [
    "<H1>GEOSPATIAL ANALYSIS</H1>\n",
    "<h3>FOLIUM LIBRARY<h3>\n",
    "#install pip install folium"
   ]
  },
  {
   "cell_type": "code",
   "execution_count": null,
   "id": "dd86bd5d-aa88-4748-8985-58770886a4c0",
   "metadata": {},
   "outputs": [],
   "source": [
    "import folium\n",
    "from folium.plugins import HeatMap\n",
    "\n",
    "locations = list(zip(Shepway_accident['Latitude'], Shepway_accident['Longitude']))\n",
    "\n",
    "m = folium.Map(location=[Shepway_accident['Latitude'].mean(), Shepway_accident['Longitude'].mean()], zoom_start=10)\n",
    "\n",
    "HeatMap(locations).add_to(m)\n",
    "\n",
    "m.save('accident_heatmap.html')\n",
    "m"
   ]
  },
  {
   "cell_type": "code",
   "execution_count": null,
   "id": "322b54fa-5837-4221-bac9-ecf9b6e45b28",
   "metadata": {},
   "outputs": [],
   "source": [
    "accidents_per_month_severity = accident.groupby(['Month', 'Accident_Severity']).size().unstack()\n",
    "\n",
    "accidents_per_month_severity.plot(kind='bar', stacked=True)\n",
    "plt.title('Accidents per Month by Severity')\n",
    "plt.xlabel('Month')\n",
    "plt.ylabel('Number of Accidents')\n",
    "plt.legend(bbox_to_anchor = (1.05, 1), loc='upper left', title='Accident Severity')\n",
    "plt.gcf().set_size_inches(10,4)\n",
    "#plt.figure(figsize = (12,8))\n",
    "plt.xticks(range(0, 12), ['jan', 'feb', 'Mar', 'Apr', 'May', 'Jun', 'Jul', 'Aug', 'Sep', 'Oct', 'Nov', 'Dec'])\n",
    "plt.show()"
   ]
  },
  {
   "cell_type": "markdown",
   "id": "b6322413-6c9c-41d6-8f92-e749c0dd9783",
   "metadata": {},
   "source": [
    "<h1> Part 2: Using District Area to make a comparison to a general result </h1>\n",
    "<h3>East Hampshire Analysis</h3>\n",
    "<img src = 'https://eu-assets.simpleview-europe.com/hampshire2016/imageresizer/?image=%2Fdmsimgs%2Feastmeon2_web%20size.jpg&action=ProductDetail'\\>"
   ]
  },
  {
   "cell_type": "code",
   "execution_count": null,
   "id": "de42d9bf-d4ac-45c0-ba08-731b5924904c",
   "metadata": {},
   "outputs": [],
   "source": [
    "# df.dtypes\n",
    "East_Hampshire_accident = accident[accident['District Area'] == 'East Hampshire']"
   ]
  },
  {
   "cell_type": "code",
   "execution_count": null,
   "id": "1acc9a2a-126d-4492-82ec-ee3ff8ede8be",
   "metadata": {},
   "outputs": [],
   "source": [
    "monthly_londondata = East_Hampshire_accident.groupby(['Year', 'Month', ]).size()\n",
    "\n",
    "monthly_londondata = monthly_londondata.unstack(level=0)\n",
    "\n",
    "monthly_londondata.plot(\n",
    "    marker='o', \n",
    "    figsize=(10, 5),\n",
    "    title='Monthly Road Accidents in East Hampshire by Year (2019-2022)'\n",
    ")\n",
    "plt.xticks(range(1, 13), ['Jan','Feb','Mar','Apr','May','Jun','Jul','Aug','Sep','Oct','Nov','Dec'])\n",
    "# plt.legend(title='Yearly Accident Comparison', bbox_to_anchor = (1.05,1), loc='upper left')\n",
    "plt.grid(alpha=0.3)\n",
    "plt.show()"
   ]
  },
  {
   "cell_type": "code",
   "execution_count": null,
   "id": "93efd78e-09a6-4edf-98dd-018dcadb4638",
   "metadata": {},
   "outputs": [],
   "source": [
    "# Accidents per year\n",
    "accidents_per_year = East_Hampshire_accident['Year'].value_counts().sort_index()\n",
    "accidents_per_month = East_Hampshire_accident['Month'].value_counts().sort_index()\n",
    "accidents_per_day = East_Hampshire_accident['DayOfWeek'].value_counts().sort_index()\n",
    "\n",
    "\n",
    "#PER YEAR \n",
    "accidents_per_year.plot(kind='bar')\n",
    "plt.title('Accidents per Year')\n",
    "plt.xlabel('Year')\n",
    "plt.ylabel('Number of Accidents')\n",
    "plt.show()\n",
    "\n",
    "month_names = {\n",
    "    1: 'January', 2: 'February', 3: 'March', 4: 'April',\n",
    "    5: 'May', 6: 'June', 7: 'July', 8: 'August',\n",
    "    9: 'September', 10: 'October', 11: 'November', 12: 'December'\n",
    "}\n",
    "\n",
    "# Replace numerical months with their names\n",
    "accidents_per_month.index = accidents_per_month.index.map(month_names)\n",
    "\n",
    "\n",
    "accidents_per_month.plot(kind='bar')\n",
    "plt.title('Accidents per Month')\n",
    "plt.xlabel('Month')\n",
    "plt.ylabel('Number of Accidents')\n",
    "plt.show()\n",
    "\n",
    "\n",
    "#accident per day\n",
    "day_names = {\n",
    "    0: 'Monday',\n",
    "    1: 'Tuesday',\n",
    "    2: 'Wednesday',\n",
    "    3: 'Thursday',\n",
    "    4: 'Friday',\n",
    "    5: 'Saturday',\n",
    "    6: 'Sunday'\n",
    "}\n",
    "\n",
    "accidents_per_day.index = accidents_per_day.index.map(day_names)\n",
    "accidents_per_day.plot(kind='bar')\n",
    "print(accidents_per_day)"
   ]
  },
  {
   "cell_type": "code",
   "execution_count": null,
   "id": "233b0d70-5b4a-4c9d-98fd-d1007544ec20",
   "metadata": {},
   "outputs": [],
   "source": [
    "locations = list(zip(East_Hampshire_accident['Latitude'], East_Hampshire_accident['Longitude']))\n",
    "\n",
    "m = folium.Map(location=[East_Hampshire_accident['Latitude'].mean(), East_Hampshire_accident['Longitude'].mean()], zoom_start=10)\n",
    "\n",
    "HeatMap(locations).add_to(m)\n",
    "\n",
    "m.save('accident_heatmap.html')\n",
    "m"
   ]
  },
  {
   "cell_type": "markdown",
   "id": "cf7e9483-2855-457d-8da0-b75666fca037",
   "metadata": {},
   "source": [
    "<hr>"
   ]
  },
  {
   "cell_type": "markdown",
   "id": "370133d9-7c13-4977-aefb-606eb5ee50a9",
   "metadata": {},
   "source": [
    "<h1> Part 3: Using District Area to make a comparison to a general result </h1>\n",
    "<h3>Restormel Analysis</h3>\n",
    "<img src = 'https://upload.wikimedia.org/wikipedia/commons/c/c9/RestormelCastle.JPG'\\>"
   ]
  },
  {
   "cell_type": "code",
   "execution_count": null,
   "id": "493973eb-098b-42ff-a4d7-a973a774abf5",
   "metadata": {},
   "outputs": [],
   "source": [
    "Restormel_accident = accident[accident['District Area'] == 'Restormel']"
   ]
  },
  {
   "cell_type": "code",
   "execution_count": null,
   "id": "5d126145-2f72-4b11-9b5d-ef7c8e7a9b7f",
   "metadata": {},
   "outputs": [],
   "source": [
    "monthly_londondata = Restormel_accident.groupby(['Year', 'Month', ]).size()\n",
    "\n",
    "monthly_londondata = monthly_londondata.unstack(level=0)\n",
    "\n",
    "monthly_londondata.plot(\n",
    "    marker='o', \n",
    "    figsize=(10, 5),\n",
    "    title='Monthly Road Accidents in Restormel by Year (2019-2022)'\n",
    ")\n",
    "plt.xticks(range(1, 13), ['Jan','Feb','Mar','Apr','May','Jun','Jul','Aug','Sep','Oct','Nov','Dec'])\n",
    "# plt.legend(title='Yearly Accident Comparison', bbox_to_anchor = (1.05,1), loc='upper left')\n",
    "plt.grid(alpha=0.3)\n",
    "plt.show()"
   ]
  },
  {
   "cell_type": "code",
   "execution_count": null,
   "id": "5fea8278-2d48-4557-ba48-b4a129f046cc",
   "metadata": {},
   "outputs": [],
   "source": [
    "accidents_per_year = Restormel_accident['Year'].value_counts().sort_index()\n",
    "accidents_per_month = Restormel_accident['Month'].value_counts().sort_index()\n",
    "accidents_per_day = Restormel_accident['DayOfWeek'].value_counts().sort_index()\n",
    " \n",
    "accidents_per_year.plot(kind='bar')\n",
    "plt.title('Accidents per Year')\n",
    "plt.xlabel('Year')\n",
    "plt.ylabel('Number of Accidents')\n",
    "plt.show()\n",
    "\n",
    "month_names = {\n",
    "    1: 'January', 2: 'February', 3: 'March', 4: 'April',\n",
    "    5: 'May', 6: 'June', 7: 'July', 8: 'August',\n",
    "    9: 'September', 10: 'October', 11: 'November', 12: 'December'\n",
    "}\n",
    "\n",
    "accidents_per_month.index = accidents_per_month.index.map(month_names)\n",
    "\n",
    "\n",
    "accidents_per_month.plot(kind='bar')\n",
    "plt.title('Accidents per Month')\n",
    "plt.xlabel('Month')\n",
    "plt.ylabel('Number of Accidents')\n",
    "plt.show()\n",
    "\n",
    "day_names = {\n",
    "    0: 'Monday',\n",
    "    1: 'Tuesday',\n",
    "    2: 'Wednesday',\n",
    "    3: 'Thursday',\n",
    "    4: 'Friday',\n",
    "    5: 'Saturday',\n",
    "    6: 'Sunday'\n",
    "}\n",
    "\n",
    "accidents_per_day.index = accidents_per_day.index.map(day_names)\n",
    "accidents_per_day.plot(kind='bar')\n",
    "print(accidents_per_day)"
   ]
  },
  {
   "cell_type": "code",
   "execution_count": null,
   "id": "de93de7c-a707-426f-99ed-04c2469489bf",
   "metadata": {},
   "outputs": [],
   "source": [
    "locations = list(zip(Restormel_accident['Latitude'], Restormel_accident['Longitude']))\n",
    "\n",
    "m = folium.Map(location=[Restormel_accident['Latitude'].mean(), Restormel_accident['Longitude'].mean()], zoom_start=10)\n",
    "\n",
    "HeatMap(locations).add_to(m)\n",
    "\n",
    "m.save('accident_heatmap.html')\n",
    "m"
   ]
  },
  {
   "cell_type": "markdown",
   "id": "a2e623eb-a5f6-40e9-9cb6-780c60db9096",
   "metadata": {},
   "source": [
    "<hr>"
   ]
  },
  {
   "cell_type": "markdown",
   "id": "0a4a8770-65bc-4e2b-aef8-dae52bdc99fd",
   "metadata": {},
   "source": [
    "<h1> Part 4: Using District Area to make a comparison to a general result </h1>\n",
    "<h3>Three Rivers Analysis</h3>\n",
    "<img src = 'https://upload.wikimedia.org/wikipedia/commons/f/f6/Church_Street%2C_Rickmansworth_-_geograph.org.uk_-_5250876.jpg'\\>"
   ]
  },
  {
   "cell_type": "code",
   "execution_count": null,
   "id": "b480b64b-ab20-4b75-acd6-57257729610e",
   "metadata": {},
   "outputs": [],
   "source": [
    "Three_Rivers_accident = accident[accident['District Area'] == 'Three Rivers']"
   ]
  },
  {
   "cell_type": "code",
   "execution_count": null,
   "id": "952709f6-d78d-427e-a946-0199589c0bc6",
   "metadata": {},
   "outputs": [],
   "source": [
    "monthly_londondata = Three_Rivers_accident.groupby(['Year', 'Month', ]).size()\n",
    "\n",
    "monthly_londondata = monthly_londondata.unstack(level=0)\n",
    "\n",
    "monthly_londondata.plot(\n",
    "    marker='o', \n",
    "    figsize=(10, 5),\n",
    "    title='Monthly Road Accidents in Three Rivers by Year (2019-2022)'\n",
    ")\n",
    "plt.xticks(range(1, 13), ['Jan','Feb','Mar','Apr','May','Jun','Jul','Aug','Sep','Oct','Nov','Dec'])\n",
    "# plt.legend(title='Yearly Accident Comparison', bbox_to_anchor = (1.05,1), loc='upper left')\n",
    "plt.grid(alpha=0.3)\n",
    "plt.show()"
   ]
  },
  {
   "cell_type": "code",
   "execution_count": null,
   "id": "db4863b1-1333-4ce2-a660-e4f1f2485723",
   "metadata": {},
   "outputs": [],
   "source": [
    "accidents_per_year = Three_Rivers_accident['Year'].value_counts().sort_index()\n",
    "accidents_per_month = Three_Rivers_accident['Month'].value_counts().sort_index()\n",
    "accidents_per_day = Three_Rivers_accident['DayOfWeek'].value_counts().sort_index()\n",
    " \n",
    "accidents_per_year.plot(kind='bar')\n",
    "plt.title('Accidents per Year')\n",
    "plt.xlabel('Year')\n",
    "plt.ylabel('Number of Accidents')\n",
    "plt.show()\n",
    "\n",
    "month_names = {\n",
    "    1: 'January', 2: 'February', 3: 'March', 4: 'April',\n",
    "    5: 'May', 6: 'June', 7: 'July', 8: 'August',\n",
    "    9: 'September', 10: 'October', 11: 'November', 12: 'December'\n",
    "}\n",
    "\n",
    "accidents_per_month.index = accidents_per_month.index.map(month_names)\n",
    "\n",
    "\n",
    "accidents_per_month.plot(kind='bar')\n",
    "plt.title('Accidents per Month')\n",
    "plt.xlabel('Month')\n",
    "plt.ylabel('Number of Accidents')\n",
    "plt.show()\n",
    "\n",
    "day_names = {\n",
    "    0: 'Monday',\n",
    "    1: 'Tuesday',\n",
    "    2: 'Wednesday',\n",
    "    3: 'Thursday',\n",
    "    4: 'Friday',\n",
    "    5: 'Saturday',\n",
    "    6: 'Sunday'\n",
    "}\n",
    "\n",
    "accidents_per_day.index = accidents_per_day.index.map(day_names)\n",
    "accidents_per_day.plot(kind='bar')\n",
    "print(accidents_per_day)"
   ]
  },
  {
   "cell_type": "code",
   "execution_count": null,
   "id": "973934f7-b0d3-444b-9463-0dcfe24496d1",
   "metadata": {},
   "outputs": [],
   "source": [
    "locations = list(zip(Three_Rivers_accident['Latitude'], Three_Rivers_accident['Longitude']))\n",
    "\n",
    "m = folium.Map(location=[Three_Rivers_accident['Latitude'].mean(), Three_Rivers_accident['Longitude'].mean()], zoom_start=10)\n",
    "\n",
    "HeatMap(locations).add_to(m)\n",
    "\n",
    "m.save('accident_heatmap.html')\n",
    "m"
   ]
  },
  {
   "cell_type": "markdown",
   "id": "368e3de8-bedc-467e-84f7-9e928ba6d355",
   "metadata": {},
   "source": [
    "<hr>"
   ]
  },
  {
   "cell_type": "markdown",
   "id": "6f3e4556-6981-4486-96d4-dd0c63511d40",
   "metadata": {},
   "source": [
    "<h1> Part 5: Using District Area to make a comparison to a general result </h1>\n",
    "<h3>Richmond upon Thames Analysis</h3>\n",
    "<img src = 'https://static.wixstatic.com/media/e52a8a_421c7ff915bc4afdb51249f93fcad033~mv2.jpg/v1/fill/w_1000,h_668,al_c,q_85,usm_0.66_1.00_0.01/e52a8a_421c7ff915bc4afdb51249f93fcad033~mv2.jpg'\\>"
   ]
  },
  {
   "cell_type": "code",
   "execution_count": null,
   "id": "98511aba-e91b-40c8-8d4a-dbd099bdddd4",
   "metadata": {},
   "outputs": [],
   "source": [
    "Richmond_upon_Thames_accident = accident[accident['District Area'] == 'Richmond upon Thames']"
   ]
  },
  {
   "cell_type": "code",
   "execution_count": null,
   "id": "71b4f87f-e862-4485-9add-a9e46927acb0",
   "metadata": {},
   "outputs": [],
   "source": [
    "monthly_londondata = Richmond_upon_Thames_accident.groupby(['Year', 'Month', ]).size()\n",
    "\n",
    "monthly_londondata = monthly_londondata.unstack(level=0)\n",
    "\n",
    "monthly_londondata.plot(\n",
    "    marker='o', \n",
    "    figsize=(10, 5),\n",
    "    title='Monthly Road Accidents in Richmond upon Thames by Year (2019-2022)'\n",
    ")\n",
    "plt.xticks(range(1, 13), ['Jan','Feb','Mar','Apr','May','Jun','Jul','Aug','Sep','Oct','Nov','Dec'])\n",
    "# plt.legend(title='Yearly Accident Comparison', bbox_to_anchor = (1.05,1), loc='upper left')\n",
    "plt.grid(alpha=0.3)\n",
    "plt.show()"
   ]
  },
  {
   "cell_type": "code",
   "execution_count": null,
   "id": "c7c826f4-7870-476b-9e73-91a79febcf80",
   "metadata": {},
   "outputs": [],
   "source": [
    "accidents_per_year = Richmond_upon_Thames_accident['Year'].value_counts().sort_index()\n",
    "accidents_per_month = Richmond_upon_Thames_accident['Month'].value_counts().sort_index()\n",
    "accidents_per_day = Richmond_upon_Thames_accident['DayOfWeek'].value_counts().sort_index()\n",
    " \n",
    "accidents_per_year.plot(kind='bar')\n",
    "plt.title('Accidents per Year')\n",
    "plt.xlabel('Year')\n",
    "plt.ylabel('Number of Accidents')\n",
    "plt.show()\n",
    "\n",
    "month_names = {\n",
    "    1: 'January', 2: 'February', 3: 'March', 4: 'April',\n",
    "    5: 'May', 6: 'June', 7: 'July', 8: 'August',\n",
    "    9: 'September', 10: 'October', 11: 'November', 12: 'December'\n",
    "}\n",
    "\n",
    "accidents_per_month.index = accidents_per_month.index.map(month_names)\n",
    "\n",
    "\n",
    "accidents_per_month.plot(kind='bar')\n",
    "plt.title('Accidents per Month')\n",
    "plt.xlabel('Month')\n",
    "plt.ylabel('Number of Accidents')\n",
    "plt.show()\n",
    "\n",
    "day_names = {\n",
    "    0: 'Monday',\n",
    "    1: 'Tuesday',\n",
    "    2: 'Wednesday',\n",
    "    3: 'Thursday',\n",
    "    4: 'Friday',\n",
    "    5: 'Saturday',\n",
    "    6: 'Sunday'\n",
    "}\n",
    "\n",
    "accidents_per_day.index = accidents_per_day.index.map(day_names)\n",
    "accidents_per_day.plot(kind='bar')\n",
    "print(accidents_per_day)"
   ]
  },
  {
   "cell_type": "code",
   "execution_count": null,
   "id": "28cd96d4-84ad-4b7d-8417-5d564ba36228",
   "metadata": {},
   "outputs": [],
   "source": [
    "locations = list(zip(Richmond_upon_Thames_accident['Latitude'], Richmond_upon_Thames_accident['Longitude']))\n",
    "\n",
    "m = folium.Map(location=[Richmond_upon_Thames_accident['Latitude'].mean(), Richmond_upon_Thames_accident['Longitude'].mean()], zoom_start=10)\n",
    "\n",
    "HeatMap(locations).add_to(m)\n",
    "\n",
    "m.save('accident_heatmap.html')\n",
    "m"
   ]
  },
  {
   "cell_type": "markdown",
   "id": "5a635eae-c09f-4cb0-8972-5a67f450a847",
   "metadata": {},
   "source": [
    "<hr>"
   ]
  },
  {
   "cell_type": "markdown",
   "id": "d199f344-a02d-475f-bece-aa3f4dadedd1",
   "metadata": {},
   "source": [
    "<h1> Part 6: Using District Area to make a comparison to a general result </h1>\n",
    "<h3>Blaby Analysis</h3>\n",
    "<img src = 'https://cdn.prod.website-files.com/6718b67049555655c1a7d492/672bad33ee145d12002d1d98_blaby-conservation-area-appraisal-header.jpg'\\>"
   ]
  },
  {
   "cell_type": "code",
   "execution_count": null,
   "id": "132e0600-dd60-40df-9057-3e0b660ae0a3",
   "metadata": {},
   "outputs": [],
   "source": [
    "Blaby_accident = accident[accident['District Area'] == 'Blaby']"
   ]
  },
  {
   "cell_type": "code",
   "execution_count": null,
   "id": "99839f45-b186-4f49-8a65-040c4ce9cf81",
   "metadata": {},
   "outputs": [],
   "source": [
    "monthly_londondata = Blaby_accident.groupby(['Year', 'Month', ]).size()\n",
    "\n",
    "monthly_londondata = monthly_londondata.unstack(level=0)\n",
    "\n",
    "monthly_londondata.plot(\n",
    "    marker='o', \n",
    "    figsize=(10, 5),\n",
    "    title='Monthly Road Accidents in Blaby upon Thames by Year (2019-2022)'\n",
    ")\n",
    "plt.xticks(range(1, 13), ['Jan','Feb','Mar','Apr','May','Jun','Jul','Aug','Sep','Oct','Nov','Dec'])\n",
    "# plt.legend(title='Yearly Accident Comparison', bbox_to_anchor = (1.05,1), loc='upper left')\n",
    "plt.grid(alpha=0.3)\n",
    "plt.show()"
   ]
  },
  {
   "cell_type": "code",
   "execution_count": null,
   "id": "73744699-5fa6-4558-a613-2b6f790e56ed",
   "metadata": {},
   "outputs": [],
   "source": [
    "accidents_per_year = Blaby_accident['Year'].value_counts().sort_index()\n",
    "accidents_per_month = Blaby_accident['Month'].value_counts().sort_index()\n",
    "accidents_per_day = Blaby_accident['DayOfWeek'].value_counts().sort_index()\n",
    " \n",
    "accidents_per_year.plot(kind='bar')\n",
    "plt.title('Accidents per Year')\n",
    "plt.xlabel('Year')\n",
    "plt.ylabel('Number of Accidents')\n",
    "plt.show()\n",
    "\n",
    "month_names = {\n",
    "    1: 'January', 2: 'February', 3: 'March', 4: 'April',\n",
    "    5: 'May', 6: 'June', 7: 'July', 8: 'August',\n",
    "    9: 'September', 10: 'October', 11: 'November', 12: 'December'\n",
    "}\n",
    "\n",
    "accidents_per_month.index = accidents_per_month.index.map(month_names)\n",
    "\n",
    "\n",
    "accidents_per_month.plot(kind='bar')\n",
    "plt.title('Accidents per Month')\n",
    "plt.xlabel('Month')\n",
    "plt.ylabel('Number of Accidents')\n",
    "plt.show()\n",
    "\n",
    "day_names = {\n",
    "    0: 'Monday',\n",
    "    1: 'Tuesday',\n",
    "    2: 'Wednesday',\n",
    "    3: 'Thursday',\n",
    "    4: 'Friday',\n",
    "    5: 'Saturday',\n",
    "    6: 'Sunday'\n",
    "}\n",
    "\n",
    "accidents_per_day.index = accidents_per_day.index.map(day_names)\n",
    "accidents_per_day.plot(kind='bar')\n",
    "print(accidents_per_day)"
   ]
  },
  {
   "cell_type": "code",
   "execution_count": null,
   "id": "c83febd0-0a51-4220-ade0-5f8566b95dc3",
   "metadata": {},
   "outputs": [],
   "source": [
    "locations = list(zip(Blaby_accident['Latitude'], Blaby_accident['Longitude']))\n",
    "\n",
    "m = folium.Map(location=[Blaby_accident['Latitude'].mean(), Blaby_accident['Longitude'].mean()], zoom_start=10)\n",
    "\n",
    "HeatMap(locations).add_to(m)\n",
    "\n",
    "m.save('accident_heatmap.html')\n",
    "m"
   ]
  }
 ],
 "metadata": {
  "kernelspec": {
   "display_name": "Python 3 (ipykernel)",
   "language": "python",
   "name": "python3"
  },
  "language_info": {
   "codemirror_mode": {
    "name": "ipython",
    "version": 3
   },
   "file_extension": ".py",
   "mimetype": "text/x-python",
   "name": "python",
   "nbconvert_exporter": "python",
   "pygments_lexer": "ipython3",
   "version": "3.12.7"
  }
 },
 "nbformat": 4,
 "nbformat_minor": 5
}
